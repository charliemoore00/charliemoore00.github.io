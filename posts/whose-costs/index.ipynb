{
 "cells": [
  {
   "cell_type": "raw",
   "metadata": {},
   "source": [
    "---\n",
    "title: Whose Costs?\n",
    "author: Charlie Moore\n",
    "date: '2024-03-07'\n",
    "image: \"image.jpg\"\n",
    "description: \"'Optimal' Decision-Making\"\n",
    "format: html\n",
    "---"
   ]
  }
 ],
 "metadata": {
  "kernelspec": {
   "display_name": "ml-0451",
   "language": "python",
   "name": "python3"
  },
  "language_info": {
   "codemirror_mode": {
    "name": "ipython",
    "version": 3
   },
   "file_extension": ".py",
   "mimetype": "text/x-python",
   "name": "python",
   "nbconvert_exporter": "python",
   "pygments_lexer": "ipython3",
   "version": "3.9.18"
  },
  "orig_nbformat": 4,
  "vscode": {
   "interpreter": {
    "hash": "187156e0ef0c6f9243b798f1596c24af015e4c279d4c96dc018bc5fe637065dc"
   }
  }
 },
 "nbformat": 4,
 "nbformat_minor": 2
}
