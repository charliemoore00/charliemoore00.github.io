{
 "cells": [
  {
   "cell_type": "raw",
   "metadata": {},
   "source": [
    "---\n",
    "title: Implementing Logistic Regression\n",
    "author: Charlie Moore\n",
    "date: '2024-05-12'\n",
    "image: \"logistic.png\"\n",
    "description: \"'Implementing Logistic Regression\"\n",
    "format: html\n",
    "---"
   ]
  },
  {
   "cell_type": "markdown",
   "metadata": {},
   "source": [
    "Gradient Descent for Logistic Regression is implemented in [logistic.py](https://github.com/charliemoore00/charliemoore00.github.io/blob/main/posts/implementing-logistic-regression/logistic.py)"
   ]
  },
  {
   "cell_type": "markdown",
   "metadata": {},
   "source": [
    "## Abstract\n",
    "\n",
    "This blog post contains an implementation of Logistic Regression with a Gradient Descent with Momentum Optimizer. The implementation exists as the logistic.py class, available above. We'll set up some sample data, train a model, and conduct some experiments using this implementation:\n",
    "\n",
    "- **Classic Gradient Descent without momentum**: using just two features\n",
    "- **Gradient Descent with momentum**: how does momentum affect how quickly and accurately our model converges?\n",
    "- **Overfitting**: how does the relationship between number of data points and number of features affect our model's accuracy?"
   ]
  },
  {
   "cell_type": "markdown",
   "metadata": {},
   "source": [
    "First, let's load our logistic regression implementation and other necessary packages."
   ]
  },
  {
   "cell_type": "code",
   "execution_count": 477,
   "metadata": {},
   "outputs": [
    {
     "name": "stdout",
     "output_type": "stream",
     "text": [
      "The autoreload extension is already loaded. To reload it, use:\n",
      "  %reload_ext autoreload\n"
     ]
    }
   ],
   "source": [
    "%load_ext autoreload\n",
    "%autoreload 2\n",
    "from logistic import LogisticRegression, GradientDescentOptimizer\n",
    "import torch\n",
    "from matplotlib import pyplot as plt # type: ignore"
   ]
  },
  {
   "cell_type": "markdown",
   "metadata": {},
   "source": [
    "## Implementing Logistic Regression\n",
    "\n",
    "The following classes are implemented in logistic.py - the link is at the top of this page.\n",
    "\n",
    "#### Implement `LinearModel`, `LogisticRegression()`, and `GradientDescentOptimizer`\n",
    "\n",
    "\n",
    "The `LogisticRegression()` class has two methods:\n",
    "\n",
    "- ``LogisticRegression.loss(X, y)`` computes the empirical risk $L(w)$ using the logistic loss function: \n",
    "\\begin{aligned}\n",
    "  L(\\mathbf{w}) = \\frac{1}{n} \\sum_{i = 1}^n \\left[-y_i \\log \\sigma(s_i) - (1-y_i)\\log (1-\\sigma(s_i))\\right]\n",
    "\\end{aligned}\n",
    ".\n",
    "- ``LogisticRegression.grad(X, y)`` computes the _gradient_ of the empirical risk ${\\nabla}L(w)$ using this formula:\n",
    "\\begin{aligned}\n",
    "  \\nabla L(\\mathbf{w}) &=\\frac{1}{n} \\sum_{i = 1}^n (\\sigma(\\langle \\mathbf{w}, \\mathbf{x}_i\\rangle) - y_i)\\mathbf{x}_i\\;\n",
    "\\end{aligned}\n",
    ".\n",
    "\n",
    "The `GradientDescentOptimizer` class has one method:\n",
    "\n",
    "- `GradientDescentOptimizer.step(X, y, alpha, beta)` updates the weight vector. At algorithmic step k, it computes new weights:\n",
    "\\begin{aligned}\n",
    "    \\mathbf{w}_{k+1} \\gets \\mathbf{w}_k - \\alpha \\nabla L(\\mathbf{w}_k) + \\beta(\\mathbf{w}_k - \\mathbf{w}_{k-1})\n",
    "\\end{aligned}\n",
    "Here, alpha and beta are two learning rate parameters. When beta = 0 we have \"regular\" gradient descent. In practice, a choice of beta = 0.9 is common."
   ]
  },
  {
   "cell_type": "markdown",
   "metadata": {},
   "source": [
    "## Experiments\n",
    "\n",
    "### Generating Experimental Data\n",
    "\n",
    "Here is a method to generate data. The parameters are:\n",
    "\n",
    "- `n_points`: the number of points\n",
    "- `p_dims`: the number of features\n",
    "- `noise`: the difficulty of the classification problem"
   ]
  },
  {
   "cell_type": "code",
   "execution_count": 478,
   "metadata": {},
   "outputs": [],
   "source": [
    "def classification_data(n_points = 300, noise = 0.2, p_dims = 2):\n",
    "    \n",
    "    y = torch.arange(n_points) >= int(n_points/2)\n",
    "    y = 1.0*y\n",
    "    X = y[:, None] + torch.normal(0.0, noise, size = (n_points,p_dims))\n",
    "    X = torch.cat((X, torch.ones((X.shape[0], 1))), 1)\n",
    "    \n",
    "    return X, y\n",
    "\n",
    "X_rand, y_rand = classification_data(noise = 0.5)"
   ]
  },
  {
   "cell_type": "markdown",
   "metadata": {},
   "source": [
    "\n",
    "### Training the Model\n",
    "\n",
    "We'll create a function that trains the model by iterating over the optimizer's 'step' function. "
   ]
  },
  {
   "cell_type": "code",
   "execution_count": 479,
   "metadata": {},
   "outputs": [],
   "source": [
    "def train_and_plot(X, y, alpha, beta, iterations=100):\n",
    "\n",
    "    # initialize a ligistic regression and optimizer\n",
    "    LR = LogisticRegression() \n",
    "    opt = GradientDescentOptimizer(LR)\n",
    "\n",
    "    # to keep track of the loss to plot it\n",
    "    loss_vec = []\n",
    "\n",
    "    for _ in range(iterations):\n",
    "\n",
    "       # keep track of the loss over time. \n",
    "        loss = LR.loss(X, y)\n",
    "        loss_vec.append(loss)\n",
    "\n",
    "        # use GradientDescentOptimizer's step function\n",
    "        opt.step(X, y, alpha, beta)\n",
    "\n",
    "\n",
    "    # plot the loss\n",
    "    plt.plot(torch.arange(1, len(loss_vec) +1), loss_vec, color=\"black\")\n",
    "    plt.semilogx()\n",
    "    labs = plt.gca().set(xlabel = \"Number of Gradient Descent iterations\", ylabel=\"loss\")"
   ]
  },
  {
   "cell_type": "markdown",
   "metadata": {},
   "source": [
    "## Conduct Some Experiments!"
   ]
  },
  {
   "cell_type": "markdown",
   "metadata": {},
   "source": [
    "### 1. Vanilla gradient descent:\n",
    "When the number of features `p_dim` = 2, alpha is sufficiently small, and beta=0, gradient descent for logistic regression converges to a weight vector `w` that looks visually correct and the loss decreases monotonically.\n",
    "\n",
    "First, lets generate some experimental data with 2 dimensions:"
   ]
  },
  {
   "cell_type": "code",
   "execution_count": 480,
   "metadata": {},
   "outputs": [],
   "source": [
    "X_exp, y_exp = classification_data(n_points = 300, noise = 0.5, p_dims = 2)"
   ]
  },
  {
   "cell_type": "markdown",
   "metadata": {},
   "source": [
    "Next, let's run our train_and_plot method with a sufficiently small value (0.1) for alpha, and with beta = 0. \n",
    "\n",
    "This is a basic version of gradient descent without momentum (the beta term).\n",
    "\n",
    "- Having a small alpha value, or learning rate, means that our gradient will converge smoothly without any big jumps or overshooting the minimum.\n",
    "\n",
    "- Having a beta value of 0 means that the last term in the GradientDescentOptimizer.step function will evaluate to 0. This means it won't take into account the old weight vector and add momentum to the term when updating the new weights.\n",
    "\n",
    "With these parameters, we should see a smooth curve with the loss constantly decreasing as our step function iterates:"
   ]
  },
  {
   "cell_type": "code",
   "execution_count": 481,
   "metadata": {},
   "outputs": [
    {
     "data": {
      "image/png": "[encoded data removed]",
      "text/plain": [
       "<Figure size 640x480 with 1 Axes>"
      ]
     },
     "metadata": {},
     "output_type": "display_data"
    }
   ],
   "source": [
    "train_and_plot(X_exp, y_exp, 0.1, 0)"
   ]
  },
  {
   "cell_type": "markdown",
   "metadata": {},
   "source": [
    "### 2. Benefits of momentum: \n",
    "On the same data, gradient descent with momentum (e.g. beta = 0.9) can converge to the correct weight vector in fewer iterations than vanilla gradient descent (with beta = 0). Plot the loss over iterations for each method.\n",
    "\n",
    "We'll use the same data (x_exp, y_exp) to show what simply adding momentum can do. By changing our beta term, it adds a whole new dimension for equation (2) in logistic.py. The equation \n",
    "\\begin{aligned}\n",
    "    \\mathbf{w}_{k+1} \\gets \\mathbf{w}_k - \\alpha \\nabla L(\\mathbf{w}_k) + \\beta(\\mathbf{w}_k - \\mathbf{w}_{k-1})\n",
    "\\end{aligned}\n",
    "will now have a non-zero last term with beta, which incorporates past weights ${w}_{k-1}$ to add momentum.\n",
    "\n",
    "By including past weights and present weights to calculate future weights, the momentum term helps converge faster, and we can see this by using the train_and_plot function. Again, the only thing we've changed is the beta term from 0 to 0.9"
   ]
  },
  {
   "cell_type": "code",
   "execution_count": 482,
   "metadata": {},
   "outputs": [
    {
     "data": {
      "image/png": "[encoded data removed]",
      "text/plain": [
       "<Figure size 640x480 with 1 Axes>"
      ]
     },
     "metadata": {},
     "output_type": "display_data"
    }
   ],
   "source": [
    "train_and_plot(X_exp, y_exp, 0.1, 0.9)"
   ]
  },
  {
   "cell_type": "markdown",
   "metadata": {},
   "source": [
    "### Overfitting:\n",
    "Let's generate some data where p_dim > n_points. We'll do this **twice** with the exact same parameters, the first for a train set and the second for a test set."
   ]
  },
  {
   "cell_type": "code",
   "execution_count": 483,
   "metadata": {},
   "outputs": [],
   "source": [
    "points = 200\n",
    "dims = 1000\n",
    "\n",
    "X_train, y_train = classification_data(n_points=points, noise=0.5, p_dims=dims)\n",
    "X_test, y_test = classification_data(n_points=points, noise=0.5, p_dims=dims)\n"
   ]
  },
  {
   "cell_type": "markdown",
   "metadata": {},
   "source": [
    "We'll then do an experiment in which we fit a logistic regression model to the data X_train, y_train and obtain 100% accuracy on this training data."
   ]
  },
  {
   "cell_type": "code",
   "execution_count": 484,
   "metadata": {},
   "outputs": [
    {
     "name": "stdout",
     "output_type": "stream",
     "text": [
      "training accuracy:  1.0\n",
      "testing accuracy:  0.7900000214576721\n"
     ]
    }
   ],
   "source": [
    "# create our logistic regression and optimizer\n",
    "LR = LogisticRegression()\n",
    "opt = GradientDescentOptimizer(LR)\n",
    "\n",
    "train_acc = 0\n",
    "\n",
    "# train until we achieve 100% accuracy :0\n",
    "while (train_acc != 1):\n",
    "    \n",
    "    opt.step(X_train, y_train, 0.1, 0.9)\n",
    "\n",
    "    # use LogisticRegression.predict method to calculate accuracy\n",
    "    train_acc = (1.0*(LR.predict(X_train)==y_train)).mean()\n",
    "\n",
    "\n",
    "print(\"training accuracy: \", float(train_acc))\n",
    "print(\"testing accuracy: \", float((1.0*(LR.predict(X_test) == y_test)).mean()))"
   ]
  },
  {
   "cell_type": "markdown",
   "metadata": {},
   "source": [
    "While it depends to a certain degree on the level of noise in the data, we can see that our testing accuracy is considerable lower than training accuracy. This is because using data where the number of features outweighs the number of data points results in overfitting.\n",
    "\n",
    "Because there are so many features, the logistic regression model will essential memorize the data, rather than generalize from it - this is the way overfitting works. On new test data the model hasn't seen, it isn't as equipped to generalize to these new data points. \n",
    "\n",
    "If we use the exact same pipeline, but switch the number of dimensions with the number of data points, we can see our test accuracy skyrocket."
   ]
  },
  {
   "cell_type": "code",
   "execution_count": 485,
   "metadata": {},
   "outputs": [
    {
     "name": "stdout",
     "output_type": "stream",
     "text": [
      "training accuracy:  1.0\n",
      "testing accuracy:  0.9890000224113464\n"
     ]
    }
   ],
   "source": [
    "points = 1000\n",
    "dims = 200\n",
    "\n",
    "X_train, y_train = classification_data(n_points=points, noise=0.5, p_dims=dims)\n",
    "X_test, y_test = classification_data(n_points=points, noise=0.5, p_dims=dims)\n",
    "\n",
    "LR = LogisticRegression()\n",
    "opt = GradientDescentOptimizer(LR)\n",
    "train_acc = 0\n",
    "\n",
    "while (train_acc != 1):\n",
    "    \n",
    "    opt.step(X_train, y_train, 0.1, 0.9)\n",
    "    train_acc = (1.0*(LR.predict(X_train)==y_train)).mean()\n",
    "\n",
    "print(\"training accuracy: \", float(train_acc))\n",
    "print(\"testing accuracy: \", float((1.0*(LR.predict(X_test) == y_test)).mean()))"
   ]
  },
  {
   "cell_type": "markdown",
   "metadata": {},
   "source": [
    "## Discussion\n",
    "\n",
    "In this blog post, we implemented Logistic Regression and a Gradient Descent with Momentum optimizer. This was a great way to cement my knowledge about logistic regression and learn the intricacies of the loss, grad, and step functions necessary to make these models and training loops work. The experiments showed the effects of momentum (the beta value), the relationship between number of points and number of dimensions, and visualized how Gradient Descent minimizes loss over the iteration cycle. I can now confidently describe the parameters, inner workings, and outputs of Gradient Descent."
   ]
  }
 ],
 "metadata": {
  "kernelspec": {
   "display_name": "ml-0451",
   "language": "python",
   "name": "python3"
  },
  "language_info": {
   "codemirror_mode": {
    "name": "ipython",
    "version": 3
   },
   "file_extension": ".py",
   "mimetype": "text/x-python",
   "name": "python",
   "nbconvert_exporter": "python",
   "pygments_lexer": "ipython3",
   "version": "3.9.18"
  }
 },
 "nbformat": 4,
 "nbformat_minor": 2
}
